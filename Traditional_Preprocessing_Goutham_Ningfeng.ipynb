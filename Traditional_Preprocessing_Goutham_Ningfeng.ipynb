{
 "cells": [
  {
   "cell_type": "markdown",
   "id": "f59a7c15-0add-427e-8d3a-e39790580c68",
   "metadata": {},
   "source": [
    "### Importing relevant libraries"
   ]
  },
  {
   "cell_type": "code",
   "execution_count": 9,
   "id": "0ddfd304-d2ab-4720-9bbb-a8fb7487bedd",
   "metadata": {},
   "outputs": [
    {
     "name": "stdout",
     "output_type": "stream",
     "text": [
      "Password:\n",
      "sudo: a password is required\n"
     ]
    }
   ],
   "source": [
    "sudo apt install mallet\n"
   ]
  },
  {
   "cell_type": "code",
   "execution_count": 5,
   "id": "3eab51dd-300c-4119-b309-67e5b4caa3a3",
   "metadata": {},
   "outputs": [
    {
     "name": "stdout",
     "output_type": "stream",
     "text": [
      "Collecting gensim\n",
      "  Downloading gensim-4.3.3-cp310-cp310-macosx_11_0_arm64.whl.metadata (8.2 kB)\n",
      "Requirement already satisfied: pandas in /Users/goutham/miniconda3/envs/kaggle/lib/python3.10/site-packages (2.1.4)\n",
      "Requirement already satisfied: matplotlib in /Users/goutham/miniconda3/envs/kaggle/lib/python3.10/site-packages (3.8.0)\n",
      "Requirement already satisfied: nltk in /Users/goutham/miniconda3/envs/kaggle/lib/python3.10/site-packages (3.9.1)\n",
      "Collecting pyLDAvis\n",
      "  Downloading pyLDAvis-3.4.1-py3-none-any.whl.metadata (4.2 kB)\n",
      "Requirement already satisfied: numpy<2.0,>=1.18.5 in /Users/goutham/miniconda3/envs/kaggle/lib/python3.10/site-packages (from gensim) (1.26.4)\n",
      "Requirement already satisfied: scipy<1.14.0,>=1.7.0 in /Users/goutham/miniconda3/envs/kaggle/lib/python3.10/site-packages (from gensim) (1.11.4)\n",
      "Collecting smart-open>=1.8.1 (from gensim)\n",
      "  Downloading smart_open-7.1.0-py3-none-any.whl.metadata (24 kB)\n",
      "Requirement already satisfied: python-dateutil>=2.8.2 in /Users/goutham/miniconda3/envs/kaggle/lib/python3.10/site-packages (from pandas) (2.8.2)\n",
      "Requirement already satisfied: pytz>=2020.1 in /Users/goutham/miniconda3/envs/kaggle/lib/python3.10/site-packages (from pandas) (2023.3.post1)\n",
      "Requirement already satisfied: tzdata>=2022.1 in /Users/goutham/miniconda3/envs/kaggle/lib/python3.10/site-packages (from pandas) (2023.3)\n",
      "Requirement already satisfied: contourpy>=1.0.1 in /Users/goutham/miniconda3/envs/kaggle/lib/python3.10/site-packages (from matplotlib) (1.2.0)\n",
      "Requirement already satisfied: cycler>=0.10 in /Users/goutham/miniconda3/envs/kaggle/lib/python3.10/site-packages (from matplotlib) (0.11.0)\n",
      "Requirement already satisfied: fonttools>=4.22.0 in /Users/goutham/miniconda3/envs/kaggle/lib/python3.10/site-packages (from matplotlib) (4.25.0)\n",
      "Requirement already satisfied: kiwisolver>=1.0.1 in /Users/goutham/miniconda3/envs/kaggle/lib/python3.10/site-packages (from matplotlib) (1.4.4)\n",
      "Requirement already satisfied: packaging>=20.0 in /Users/goutham/miniconda3/envs/kaggle/lib/python3.10/site-packages (from matplotlib) (23.1)\n",
      "Requirement already satisfied: pillow>=6.2.0 in /Users/goutham/miniconda3/envs/kaggle/lib/python3.10/site-packages (from matplotlib) (11.1.0)\n",
      "Requirement already satisfied: pyparsing>=2.3.1 in /Users/goutham/miniconda3/envs/kaggle/lib/python3.10/site-packages (from matplotlib) (3.0.9)\n",
      "Requirement already satisfied: click in /Users/goutham/miniconda3/envs/kaggle/lib/python3.10/site-packages (from nltk) (8.1.8)\n",
      "Requirement already satisfied: joblib in /Users/goutham/miniconda3/envs/kaggle/lib/python3.10/site-packages (from nltk) (1.2.0)\n",
      "Requirement already satisfied: regex>=2021.8.3 in /Users/goutham/miniconda3/envs/kaggle/lib/python3.10/site-packages (from nltk) (2023.10.3)\n",
      "Requirement already satisfied: tqdm in /Users/goutham/miniconda3/envs/kaggle/lib/python3.10/site-packages (from nltk) (4.65.0)\n",
      "Requirement already satisfied: jinja2 in /Users/goutham/miniconda3/envs/kaggle/lib/python3.10/site-packages (from pyLDAvis) (3.1.3)\n",
      "Requirement already satisfied: numexpr in /Users/goutham/miniconda3/envs/kaggle/lib/python3.10/site-packages (from pyLDAvis) (2.8.7)\n",
      "Collecting funcy (from pyLDAvis)\n",
      "  Downloading funcy-2.0-py2.py3-none-any.whl.metadata (5.9 kB)\n",
      "Requirement already satisfied: scikit-learn>=1.0.0 in /Users/goutham/miniconda3/envs/kaggle/lib/python3.10/site-packages (from pyLDAvis) (1.3.0)\n",
      "Requirement already satisfied: setuptools in /Users/goutham/miniconda3/envs/kaggle/lib/python3.10/site-packages (from pyLDAvis) (75.8.0)\n",
      "Requirement already satisfied: six>=1.5 in /Users/goutham/miniconda3/envs/kaggle/lib/python3.10/site-packages (from python-dateutil>=2.8.2->pandas) (1.16.0)\n",
      "Requirement already satisfied: threadpoolctl>=2.0.0 in /Users/goutham/miniconda3/envs/kaggle/lib/python3.10/site-packages (from scikit-learn>=1.0.0->pyLDAvis) (2.2.0)\n",
      "Requirement already satisfied: wrapt in /Users/goutham/miniconda3/envs/kaggle/lib/python3.10/site-packages (from smart-open>=1.8.1->gensim) (1.17.2)\n",
      "Requirement already satisfied: MarkupSafe>=2.0 in /Users/goutham/miniconda3/envs/kaggle/lib/python3.10/site-packages (from jinja2->pyLDAvis) (2.1.3)\n",
      "Downloading gensim-4.3.3-cp310-cp310-macosx_11_0_arm64.whl (24.0 MB)\n",
      "\u001b[2K   \u001b[90m━━━━━━━━━━━━━━━━━━━━━━━━━━━━━━━━━━━━━━━━\u001b[0m \u001b[32m24.0/24.0 MB\u001b[0m \u001b[31m16.8 MB/s\u001b[0m eta \u001b[36m0:00:00\u001b[0ma \u001b[36m0:00:01\u001b[0m\n",
      "\u001b[?25hDownloading pyLDAvis-3.4.1-py3-none-any.whl (2.6 MB)\n",
      "\u001b[2K   \u001b[90m━━━━━━━━━━━━━━━━━━━━━━━━━━━━━━━━━━━━━━━━\u001b[0m \u001b[32m2.6/2.6 MB\u001b[0m \u001b[31m18.6 MB/s\u001b[0m eta \u001b[36m0:00:00\u001b[0m\n",
      "\u001b[?25hDownloading smart_open-7.1.0-py3-none-any.whl (61 kB)\n",
      "Downloading funcy-2.0-py2.py3-none-any.whl (30 kB)\n",
      "Installing collected packages: funcy, smart-open, gensim, pyLDAvis\n",
      "Successfully installed funcy-2.0 gensim-4.3.3 pyLDAvis-3.4.1 smart-open-7.1.0\n",
      "Note: you may need to restart the kernel to use updated packages.\n"
     ]
    }
   ],
   "source": [
    "pip install gensim pandas matplotlib nltk pyLDAvis"
   ]
  },
  {
   "cell_type": "code",
   "execution_count": 6,
   "id": "e7c44722-6986-475a-b1ba-933994f553ee",
   "metadata": {},
   "outputs": [
    {
     "ename": "SyntaxError",
     "evalue": "invalid syntax (3488535892.py, line 1)",
     "output_type": "error",
     "traceback": [
      "\u001b[0;36m  Cell \u001b[0;32mIn[6], line 1\u001b[0;36m\u001b[0m\n\u001b[0;31m    wget http://mallet.cs.umass.edu/dist/mallet-2.0.8.zip\u001b[0m\n\u001b[0m         ^\u001b[0m\n\u001b[0;31mSyntaxError\u001b[0m\u001b[0;31m:\u001b[0m invalid syntax\n"
     ]
    }
   ],
   "source": [
    "wget http://mallet.cs.umass.edu/dist/mallet-2.0.8.zip\n",
    "unzip mallet-2.0.8.zip"
   ]
  },
  {
   "cell_type": "code",
   "execution_count": 2,
   "id": "850c743e-c6e8-44f4-a8e8-0298b8983bb1",
   "metadata": {},
   "outputs": [],
   "source": [
    "import pandas as pd\n",
    "import numpy as np\n",
    "import matplotlib.pyplot as plt\n",
    "import seaborn as sns\n",
    "from sklearn.feature_extraction.text import TfidfVectorizer\n",
    "from sklearn.model_selection import train_test_split\n",
    "from sklearn.linear_model import Lasso\n",
    "import nltk\n",
    "from nltk.sentiment import SentimentIntensityAnalyzer\n",
    "from nltk.tokenize import sent_tokenize\n",
    "from sklearn.metrics import accuracy_score\n",
    "import gensim\n",
    "from gensim import corpora\n",
    "from gensim.models import Word2Vec\n",
    "from gensim.models import LdaModel"
   ]
  },
  {
   "cell_type": "code",
   "execution_count": null,
   "id": "dec194e4-5bb2-4000-bda0-3a1d09f3388f",
   "metadata": {},
   "outputs": [],
   "source": [
    "import spacy"
   ]
  },
  {
   "cell_type": "code",
   "execution_count": 3,
   "id": "1cdfcf84-7051-47f7-b68f-1d404c342b2b",
   "metadata": {},
   "outputs": [
    {
     "name": "stderr",
     "output_type": "stream",
     "text": [
      "[nltk_data] Downloading package vader_lexicon to\n",
      "[nltk_data]     /Users/goutham/nltk_data...\n"
     ]
    },
    {
     "data": {
      "text/plain": [
       "True"
      ]
     },
     "execution_count": 3,
     "metadata": {},
     "output_type": "execute_result"
    }
   ],
   "source": [
    "nltk.download('vader_lexicon')"
   ]
  },
  {
   "cell_type": "code",
   "execution_count": 4,
   "id": "7f2369e3-5295-49d1-bb14-6356ca50a295",
   "metadata": {},
   "outputs": [
    {
     "name": "stderr",
     "output_type": "stream",
     "text": [
      "[nltk_data] Downloading package punkt to /Users/goutham/nltk_data...\n",
      "[nltk_data]   Unzipping tokenizers/punkt.zip.\n"
     ]
    },
    {
     "data": {
      "text/plain": [
       "True"
      ]
     },
     "execution_count": 4,
     "metadata": {},
     "output_type": "execute_result"
    }
   ],
   "source": [
    "nltk.download('punkt')"
   ]
  },
  {
   "cell_type": "markdown",
   "id": "29902193-dfea-4b1c-b964-fbd0b7da384f",
   "metadata": {},
   "source": [
    "### Reading Data"
   ]
  },
  {
   "cell_type": "code",
   "execution_count": 5,
   "id": "b1aeafcb-5e36-46ce-a8f6-48ee5c91ab98",
   "metadata": {},
   "outputs": [],
   "source": [
    "df = pd.read_parquet('btc_data.parquet')"
   ]
  },
  {
   "cell_type": "code",
   "execution_count": 8,
   "id": "87a4c8cb-7d2a-4323-9964-1aceeac87751",
   "metadata": {},
   "outputs": [],
   "source": [
    "df = df[:20000]"
   ]
  },
  {
   "cell_type": "code",
   "execution_count": 9,
   "id": "a2032ea4-62d8-4cd5-9016-95f3f60ff11b",
   "metadata": {},
   "outputs": [
    {
     "data": {
      "text/plain": [
       " 1    12372\n",
       "-1     7628\n",
       "Name: label, dtype: int64"
      ]
     },
     "execution_count": 9,
     "metadata": {},
     "output_type": "execute_result"
    }
   ],
   "source": [
    "df.label.value_counts()"
   ]
  },
  {
   "cell_type": "markdown",
   "id": "41c233bc-68c0-4ea8-85ee-18ffd47c3eb5",
   "metadata": {},
   "source": [
    "### Trying n-grams model using TF-IDF"
   ]
  },
  {
   "cell_type": "code",
   "execution_count": 10,
   "id": "c53ab5dd-e5cd-4e11-92b4-6b81ce9d53f7",
   "metadata": {},
   "outputs": [],
   "source": [
    "vectoriser_n_grams = TfidfVectorizer(ngram_range=(2,3))"
   ]
  },
  {
   "cell_type": "code",
   "execution_count": 11,
   "id": "e5e199e9-b613-46c5-b9bb-100b3a353fe8",
   "metadata": {},
   "outputs": [],
   "source": [
    "X = vectoriser_n_grams.fit_transform(df[\"text\"])\n",
    "y = df[\"label\"] "
   ]
  },
  {
   "cell_type": "code",
   "execution_count": 12,
   "id": "dc42d471-55e4-4131-8066-e5830a10fba6",
   "metadata": {},
   "outputs": [],
   "source": [
    "X_train, X_test, y_train, y_test = train_test_split(X, y, test_size=0.2, random_state=42)"
   ]
  },
  {
   "cell_type": "markdown",
   "id": "67ae85eb-3884-4a08-85b2-573978eebcec",
   "metadata": {},
   "source": [
    "### Fitting it to a Lasso Model"
   ]
  },
  {
   "cell_type": "code",
   "execution_count": 24,
   "id": "5cc77c58-fc57-44af-b446-995b24a5f4c1",
   "metadata": {},
   "outputs": [
    {
     "data": {
      "text/html": [
       "<style>#sk-container-id-3 {color: black;}#sk-container-id-3 pre{padding: 0;}#sk-container-id-3 div.sk-toggleable {background-color: white;}#sk-container-id-3 label.sk-toggleable__label {cursor: pointer;display: block;width: 100%;margin-bottom: 0;padding: 0.3em;box-sizing: border-box;text-align: center;}#sk-container-id-3 label.sk-toggleable__label-arrow:before {content: \"▸\";float: left;margin-right: 0.25em;color: #696969;}#sk-container-id-3 label.sk-toggleable__label-arrow:hover:before {color: black;}#sk-container-id-3 div.sk-estimator:hover label.sk-toggleable__label-arrow:before {color: black;}#sk-container-id-3 div.sk-toggleable__content {max-height: 0;max-width: 0;overflow: hidden;text-align: left;background-color: #f0f8ff;}#sk-container-id-3 div.sk-toggleable__content pre {margin: 0.2em;color: black;border-radius: 0.25em;background-color: #f0f8ff;}#sk-container-id-3 input.sk-toggleable__control:checked~div.sk-toggleable__content {max-height: 200px;max-width: 100%;overflow: auto;}#sk-container-id-3 input.sk-toggleable__control:checked~label.sk-toggleable__label-arrow:before {content: \"▾\";}#sk-container-id-3 div.sk-estimator input.sk-toggleable__control:checked~label.sk-toggleable__label {background-color: #d4ebff;}#sk-container-id-3 div.sk-label input.sk-toggleable__control:checked~label.sk-toggleable__label {background-color: #d4ebff;}#sk-container-id-3 input.sk-hidden--visually {border: 0;clip: rect(1px 1px 1px 1px);clip: rect(1px, 1px, 1px, 1px);height: 1px;margin: -1px;overflow: hidden;padding: 0;position: absolute;width: 1px;}#sk-container-id-3 div.sk-estimator {font-family: monospace;background-color: #f0f8ff;border: 1px dotted black;border-radius: 0.25em;box-sizing: border-box;margin-bottom: 0.5em;}#sk-container-id-3 div.sk-estimator:hover {background-color: #d4ebff;}#sk-container-id-3 div.sk-parallel-item::after {content: \"\";width: 100%;border-bottom: 1px solid gray;flex-grow: 1;}#sk-container-id-3 div.sk-label:hover label.sk-toggleable__label {background-color: #d4ebff;}#sk-container-id-3 div.sk-serial::before {content: \"\";position: absolute;border-left: 1px solid gray;box-sizing: border-box;top: 0;bottom: 0;left: 50%;z-index: 0;}#sk-container-id-3 div.sk-serial {display: flex;flex-direction: column;align-items: center;background-color: white;padding-right: 0.2em;padding-left: 0.2em;position: relative;}#sk-container-id-3 div.sk-item {position: relative;z-index: 1;}#sk-container-id-3 div.sk-parallel {display: flex;align-items: stretch;justify-content: center;background-color: white;position: relative;}#sk-container-id-3 div.sk-item::before, #sk-container-id-3 div.sk-parallel-item::before {content: \"\";position: absolute;border-left: 1px solid gray;box-sizing: border-box;top: 0;bottom: 0;left: 50%;z-index: -1;}#sk-container-id-3 div.sk-parallel-item {display: flex;flex-direction: column;z-index: 1;position: relative;background-color: white;}#sk-container-id-3 div.sk-parallel-item:first-child::after {align-self: flex-end;width: 50%;}#sk-container-id-3 div.sk-parallel-item:last-child::after {align-self: flex-start;width: 50%;}#sk-container-id-3 div.sk-parallel-item:only-child::after {width: 0;}#sk-container-id-3 div.sk-dashed-wrapped {border: 1px dashed gray;margin: 0 0.4em 0.5em 0.4em;box-sizing: border-box;padding-bottom: 0.4em;background-color: white;}#sk-container-id-3 div.sk-label label {font-family: monospace;font-weight: bold;display: inline-block;line-height: 1.2em;}#sk-container-id-3 div.sk-label-container {text-align: center;}#sk-container-id-3 div.sk-container {/* jupyter's `normalize.less` sets `[hidden] { display: none; }` but bootstrap.min.css set `[hidden] { display: none !important; }` so we also need the `!important` here to be able to override the default hidden behavior on the sphinx rendered scikit-learn.org. See: https://github.com/scikit-learn/scikit-learn/issues/21755 */display: inline-block !important;position: relative;}#sk-container-id-3 div.sk-text-repr-fallback {display: none;}</style><div id=\"sk-container-id-3\" class=\"sk-top-container\"><div class=\"sk-text-repr-fallback\"><pre>Lasso(alpha=0.001)</pre><b>In a Jupyter environment, please rerun this cell to show the HTML representation or trust the notebook. <br />On GitHub, the HTML representation is unable to render, please try loading this page with nbviewer.org.</b></div><div class=\"sk-container\" hidden><div class=\"sk-item\"><div class=\"sk-estimator sk-toggleable\"><input class=\"sk-toggleable__control sk-hidden--visually\" id=\"sk-estimator-id-3\" type=\"checkbox\" checked><label for=\"sk-estimator-id-3\" class=\"sk-toggleable__label sk-toggleable__label-arrow\">Lasso</label><div class=\"sk-toggleable__content\"><pre>Lasso(alpha=0.001)</pre></div></div></div></div></div>"
      ],
      "text/plain": [
       "Lasso(alpha=0.001)"
      ]
     },
     "execution_count": 24,
     "metadata": {},
     "output_type": "execute_result"
    }
   ],
   "source": [
    "lasso = Lasso(alpha=0.001)  # L1 penalty\n",
    "lasso.fit(X_train, y_train)"
   ]
  },
  {
   "cell_type": "code",
   "execution_count": 25,
   "id": "123dfbcd-193f-4e04-a535-be9804670a5e",
   "metadata": {},
   "outputs": [],
   "source": [
    "y_pred = lasso.predict(X_test)"
   ]
  },
  {
   "cell_type": "code",
   "execution_count": 26,
   "id": "8af37bd9-4dbb-4f60-9a55-d4ec75511347",
   "metadata": {},
   "outputs": [],
   "source": [
    "y_pred_class = [1 if pred > 0 else -1 for pred in y_pred]"
   ]
  },
  {
   "cell_type": "code",
   "execution_count": 27,
   "id": "e4fabb25-d52c-4c9d-9db8-68fd87ab4f43",
   "metadata": {},
   "outputs": [
    {
     "name": "stdout",
     "output_type": "stream",
     "text": [
      "0.6175\n"
     ]
    }
   ],
   "source": [
    "print(accuracy_score(y_test,y_pred_class))"
   ]
  },
  {
   "cell_type": "markdown",
   "id": "2e5fb189-36f6-4935-9d5c-3a3362053f12",
   "metadata": {},
   "source": [
    "### Finding Coefficients for Lasso Model"
   ]
  },
  {
   "cell_type": "code",
   "execution_count": 28,
   "id": "12db263f-a4ab-4bae-8eb3-9df4fb8af7ee",
   "metadata": {},
   "outputs": [
    {
     "name": "stdout",
     "output_type": "stream",
     "text": [
      "Top N-grams selected by Lasso:\n",
      "bitcoinmin elonmusk: 0.9246\n",
      "15 billion: 0.5731\n",
      "btc bitcoinmin elonmusk: 0.0000\n"
     ]
    }
   ],
   "source": [
    "ngrams = vectoriser_n_grams.get_feature_names_out()\n",
    "coef = lasso.coef_\n",
    "\n",
    "selected_ngrams = [(ngrams[i], coef[i]) for i in range(len(coef)) if coef[i] != 0]\n",
    "selected_ngrams = sorted(selected_ngrams, key=lambda x: abs(x[1]), reverse=True)\n",
    "\n",
    "print(\"Top N-grams selected by Lasso:\")\n",
    "for ng, score in selected_ngrams[:10]:  \n",
    "    print(f\"{ng}: {score:.4f}\")"
   ]
  },
  {
   "cell_type": "markdown",
   "id": "197cd47d-701e-48fc-aa95-b2f2725a6627",
   "metadata": {},
   "source": [
    "### Trying different alphas using Cross-Validation to find ideal regularisation parameter"
   ]
  },
  {
   "cell_type": "code",
   "execution_count": null,
   "id": "eb12e889-2232-467b-99a2-8c6a027d1831",
   "metadata": {},
   "outputs": [],
   "source": [
    "from sklearn.linear_model import LassoCV\n",
    "\n",
    "# Define a range of alpha values to test\n",
    "alphas = [0.0001, 0.001, 0.01, 0.1]\n",
    "\n",
    "# Perform cross-validation to find the best alpha\n",
    "lasso_cv = LassoCV(alphas=alphas, cv=5, random_state=42)  # 5-fold cross-validation\n",
    "lasso_cv.fit(X_train, y_train)\n",
    "\n",
    "# Get the best alpha\n",
    "best_alpha = lasso_cv.alpha_\n",
    "print(f\"Best alpha selected: {best_alpha}\")"
   ]
  },
  {
   "cell_type": "code",
   "execution_count": null,
   "id": "04dea1dd-3dca-409b-9818-bb02d1a56dca",
   "metadata": {},
   "outputs": [],
   "source": [
    "y_new_pred = lasso_cv(X_test)\n",
    "y_new_pred_class = [1 if pred > 0 else -1 for pred in y_new_pred]"
   ]
  },
  {
   "cell_type": "code",
   "execution_count": null,
   "id": "6021012a-f93d-405a-baf9-3af89995409c",
   "metadata": {},
   "outputs": [],
   "source": [
    "print(accuracy_score(y_test,y_new_pred_class))"
   ]
  },
  {
   "cell_type": "markdown",
   "id": "e2319b1c-1080-4343-b131-c75b18ac1c9f",
   "metadata": {},
   "source": [
    "### Applying a sentiment Model"
   ]
  },
  {
   "cell_type": "code",
   "execution_count": null,
   "id": "7c60ddf2-b18b-410e-bff6-5ffd1bde5144",
   "metadata": {},
   "outputs": [],
   "source": [
    "sia = SentimentIntensityAnalyzer()\n",
    "text_sample = df[\"text\"][:1000]  # Selecting first 1000 rows\n",
    "df[\"sentence_sentiments\"] = text_sample.apply(lambda text: [sia.polarity_scores(sent)['compound'] for sent in sent_tokenize(str(text))])\n",
    "df[\"document_sentiment\"] = text_sample.apply(lambda text: sia.polarity_scores(str(text))['compound'])\n",
    "df[\"average_sentiment\"] = df[\"document_sentiment\"].mean()\n",
    "df[\"split_sentiment_average\"] = df[\"sentence_sentiments\"].apply(lambda scores: sum(scores) / len(scores) if scores else 0)\n",
    "print(df)"
   ]
  },
  {
   "cell_type": "markdown",
   "id": "5a7e3de5-ad8d-4c84-b15f-2bbd713b3f33",
   "metadata": {},
   "source": [
    "### Fitting a lasso model on the sentiments"
   ]
  },
  {
   "cell_type": "code",
   "execution_count": null,
   "id": "4fc3b90f-cad8-4a0c-8627-e8d5d220e031",
   "metadata": {},
   "outputs": [],
   "source": [
    "X = df[[\"document_sentiment\", \"split_sentiment_average\"]] \n",
    "y = df[\"label\"]"
   ]
  },
  {
   "cell_type": "code",
   "execution_count": null,
   "id": "92dbc80d-df85-42fc-863f-9847085c5ff6",
   "metadata": {},
   "outputs": [],
   "source": [
    "X_train, X_test, y_train, y_test = train_test_split(X, y, test_size=0.2, random_state=42)\n",
    "\n",
    "lasso = LassoCV(alphas=[0.001, 0.01, 0.1, 1, 10], cv=5, random_state=42)\n",
    "lasso.fit(X_train, y_train)\n",
    "\n",
    "y_pred = lasso.predict(X_test)\n",
    "y_pred_class = [1 if pred > 0.5 else 0 for pred in y_pred]  # Thresholding at 0.5\n",
    "\n",
    "accuracy = accuracy_score(y_test, y_pred_class)"
   ]
  },
  {
   "cell_type": "markdown",
   "id": "d01c1508-a3da-4977-bc29-23685d05b3f9",
   "metadata": {},
   "source": [
    "### We can also try to analyse the topic that a tweet is about"
   ]
  },
  {
   "cell_type": "code",
   "execution_count": null,
   "id": "cd3cf36c-03d3-409c-8aeb-7fb4261d7782",
   "metadata": {},
   "outputs": [],
   "source": [
    "def preprocess(text):\n",
    "    tokens = gensim.utils.simple_preprocess(text, deacc=True)  # Tokenize and remove punctuation\n",
    "    return [word for word in tokens if word not in stop_words]"
   ]
  },
  {
   "cell_type": "code",
   "execution_count": null,
   "id": "c14eb67c-c52f-4fcf-8cf1-bfac53cdb778",
   "metadata": {},
   "outputs": [],
   "source": [
    "df[\"processed_text\"] = df[\"text\"].astype(str).apply(preprocess)\n",
    "dictionary = corpora.Dictionary(df[\"processed_text\"])\n",
    "corpus = [dictionary.doc2bow(text) for text in df[\"processed_text\"]]"
   ]
  },
  {
   "cell_type": "code",
   "execution_count": null,
   "id": "c3eb4287-6be6-4f1c-8f30-f4b58fb1790f",
   "metadata": {},
   "outputs": [],
   "source": [
    "lda_model = LdaModel(mallet_path, corpus=corpus, num_topics=5, id2word=dictionary)\n",
    "\n",
    "# Get topics\n",
    "topics = lda_model.show_topics(num_topics=5, formatted=False)\n",
    "\n",
    "# Print detected topics\n",
    "for topic_num, topic_words in topics:\n",
    "    print(f\"Topic {topic_num}: {[word[0] for word in topic_words]}\")"
   ]
  },
  {
   "cell_type": "markdown",
   "id": "b5bac0fd-a487-4b5e-a252-bb70406484b6",
   "metadata": {},
   "source": [
    "## The aforementioned code related to the BOW approach. Now we preprocess using various Structural Approaches"
   ]
  },
  {
   "cell_type": "code",
   "execution_count": null,
   "id": "182ad9e6-586a-4463-a1d4-afdd8b0dd7d4",
   "metadata": {},
   "outputs": [],
   "source": [
    "word2vec_model = Word2Vec(\n",
    "    sentences=df[\"processed_text\"], \n",
    "    vector_size=100,  \n",
    "    window=5,  \n",
    "    min_count=2,  \n",
    "    sg=1,  \n",
    "    workers=4,  \n",
    "    epochs=10  \n",
    ")\n",
    "\n",
    "word2vec_model.save(\"word2vec_model.bin\")\n",
    "\n",
    "vector = word2vec_model.wv[\"bitcoin\"]\n",
    "print(\"Bitcoin Embedding:\", vector[:10"
   ]
  },
  {
   "cell_type": "code",
   "execution_count": null,
   "id": "a9d1a4a7-bfd5-4c8f-9d32-64fcfcea9484",
   "metadata": {},
   "outputs": [],
   "source": []
  }
 ],
 "metadata": {
  "kernelspec": {
   "display_name": "Python 3 (ipykernel)",
   "language": "python",
   "name": "python3"
  },
  "language_info": {
   "codemirror_mode": {
    "name": "ipython",
    "version": 3
   },
   "file_extension": ".py",
   "mimetype": "text/x-python",
   "name": "python",
   "nbconvert_exporter": "python",
   "pygments_lexer": "ipython3",
   "version": "3.10.12"
  }
 },
 "nbformat": 4,
 "nbformat_minor": 5
}
